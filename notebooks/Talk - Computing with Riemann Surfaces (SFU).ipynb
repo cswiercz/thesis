{
 "cells": [
  {
   "cell_type": "markdown",
   "metadata": {
    "deletable": true,
    "editable": true
   },
   "source": [
    "# Computing with Riemann Surfaces\n",
    "\n",
    "First, we construct the Riemann surface, $X$, defined by the complex algebraic curve\n",
    "\n",
    "$$\n",
    "f(x,y) = y^3 - 2x^3y + x^7.\n",
    "$$"
   ]
  },
  {
   "cell_type": "code",
   "execution_count": null,
   "metadata": {
    "collapsed": false,
    "deletable": true,
    "editable": true
   },
   "outputs": [],
   "source": [
    "# import the main Abelfunctions functionality\n",
    "from abelfunctions import (\n",
    "    RiemannSurface,\n",
    "    AbelMap,\n",
    "    RiemannConstantVector,\n",
    "    Jacobian,\n",
    "    puiseux,\n",
    "    RiemannTheta,\n",
    ")\n",
    "\n",
    "# construct a Sage polynomial ring and the above curve\n",
    "R.<x,y> = QQ[]\n",
    "f = y**3 - 2*x**3*y + x**7\n",
    "f = x**2*y**3 - x**4 + 1  # a genus 4 example\n",
    "#f = x**2*y**3 - x**4 + y\n",
    "#ftrott = 144*(x**4 + y**4) - 225*(x**2 + y**2) + 350*x**2*y**2 + 81\n",
    "#f = ftrott\n",
    "#fdividing = -180*x**5 + 396*y*x**4 - 307*x**3*y**2 + 107*x**2*y**3 + 273*x**3 - 318*x**2*y - 17*x*y**4 + 117*x*y**2 - 68*x + y**5 - 12*y**3 + 19*y   \n",
    "#f = fdividing\n",
    "\n",
    "# construct the corresponding Riemann surface\n",
    "X = RiemannSurface(f)\n",
    "print X\n",
    "print X.genus()"
   ]
  },
  {
   "cell_type": "code",
   "execution_count": null,
   "metadata": {
    "collapsed": false,
    "deletable": true,
    "editable": true
   },
   "outputs": [],
   "source": [
    "X.branch_points"
   ]
  },
  {
   "cell_type": "markdown",
   "metadata": {
    "deletable": true,
    "editable": true
   },
   "source": [
    "# Demo - Places and Divisors\n",
    "\n",
    "Computing the places \"above\" $x=0$ on the underlying curve, $C: f(x,y) = 0$.\n",
    "\n",
    "$$P(0) = (0, \\beta)$$\n",
    "\n",
    "$x=0$ is a branch point of $f$ so one of these places is \"ramified\"."
   ]
  },
  {
   "cell_type": "code",
   "execution_count": null,
   "metadata": {
    "collapsed": false,
    "deletable": true,
    "editable": true
   },
   "outputs": [],
   "source": [
    "b = X.branch_points; b"
   ]
  },
  {
   "cell_type": "code",
   "execution_count": null,
   "metadata": {
    "collapsed": false,
    "deletable": true,
    "editable": true
   },
   "outputs": [],
   "source": [
    "places = X(0)\n",
    "for P in places: print P"
   ]
  },
  {
   "cell_type": "code",
   "execution_count": null,
   "metadata": {
    "collapsed": false,
    "deletable": true,
    "editable": true
   },
   "outputs": [],
   "source": [
    "P.puiseux_series.extend(16); P"
   ]
  },
  {
   "cell_type": "code",
   "execution_count": null,
   "metadata": {
    "collapsed": false,
    "deletable": true,
    "editable": true
   },
   "outputs": [],
   "source": [
    "# roots of f(0,y)\n",
    "#\n",
    "print f(0,y)\n",
    "print f(0,y).univariate_polynomial().roots()"
   ]
  },
  {
   "cell_type": "code",
   "execution_count": null,
   "metadata": {
    "collapsed": false,
    "deletable": true,
    "editable": true
   },
   "outputs": [],
   "source": [
    "xt = P.puiseux_series.xpart\n",
    "yt = P.puiseux_series.ypart\n",
    "\n",
    "print xt\n",
    "print yt\n",
    "print\n",
    "print f(xt,yt)"
   ]
  },
  {
   "cell_type": "code",
   "execution_count": null,
   "metadata": {
    "collapsed": false,
    "deletable": true,
    "editable": true
   },
   "outputs": [],
   "source": [
    "P.puiseux_series.extend(20)\n",
    "\n",
    "xt = P.puiseux_series.xpart\n",
    "yt = P.puiseux_series.ypart\n",
    "\n",
    "print xt\n",
    "print yt\n",
    "print\n",
    "print f(xt,yt)"
   ]
  },
  {
   "cell_type": "code",
   "execution_count": null,
   "metadata": {
    "collapsed": false,
    "deletable": true,
    "editable": true
   },
   "outputs": [],
   "source": [
    "X.branch_points"
   ]
  },
  {
   "cell_type": "markdown",
   "metadata": {
    "deletable": true,
    "editable": true
   },
   "source": [
    "$x=1$ is not a branch point of $f$, so the places above $x=1$ are completely described by the roots of\n",
    "\n",
    "$$f(1,y) = 0$$"
   ]
  },
  {
   "cell_type": "code",
   "execution_count": null,
   "metadata": {
    "collapsed": false,
    "deletable": true,
    "editable": true
   },
   "outputs": [],
   "source": [
    "places = X(1)\n",
    "\n",
    "for P in places:\n",
    "    print P"
   ]
  },
  {
   "cell_type": "markdown",
   "metadata": {
    "deletable": true,
    "editable": true
   },
   "source": [
    "We can still request the puiseux series representations at these places."
   ]
  },
  {
   "cell_type": "code",
   "execution_count": null,
   "metadata": {
    "collapsed": false,
    "deletable": true,
    "editable": true
   },
   "outputs": [],
   "source": [
    "puiseux(f,1)"
   ]
  },
  {
   "cell_type": "code",
   "execution_count": null,
   "metadata": {
    "collapsed": false,
    "deletable": true,
    "editable": true
   },
   "outputs": [],
   "source": [
    "for P in puiseux(f,1):\n",
    "    P.extend(4)\n",
    "    print P\n",
    "    print"
   ]
  },
  {
   "cell_type": "markdown",
   "metadata": {
    "deletable": true,
    "editable": true
   },
   "source": [
    "Computing the place at $x=\\infty$. (In this example there is exactly one.)"
   ]
  },
  {
   "cell_type": "code",
   "execution_count": null,
   "metadata": {
    "collapsed": false,
    "deletable": true,
    "editable": true
   },
   "outputs": [],
   "source": [
    "P_oo = X('oo')[0]\n",
    "P_oo.puiseux_series.extend(10)\n",
    "\n",
    "print P_oo"
   ]
  },
  {
   "cell_type": "code",
   "execution_count": null,
   "metadata": {
    "collapsed": false,
    "deletable": true,
    "editable": true
   },
   "outputs": [],
   "source": [
    "P_oo.puiseux_series.extend(32)\n",
    "\n",
    "xt = P_oo.puiseux_series.xpart\n",
    "yt = P_oo.puiseux_series.ypart\n",
    "\n",
    "print f(xt,yt)"
   ]
  },
  {
   "cell_type": "code",
   "execution_count": null,
   "metadata": {
    "collapsed": false,
    "deletable": true,
    "editable": true
   },
   "outputs": [],
   "source": [
    "print f(xt,yt).valuation()  ## f(xt,yt) = a*t^{valuation} + higher order terms"
   ]
  },
  {
   "cell_type": "markdown",
   "metadata": {
    "deletable": true,
    "editable": true
   },
   "source": [
    "# Demo - Homology\n",
    "\n",
    "Computing a canonical basis of cycles on the Riemann surface, $X$.\n",
    "\n",
    "We can plot their projections into the affine plane."
   ]
  },
  {
   "cell_type": "code",
   "execution_count": null,
   "metadata": {
    "collapsed": false,
    "deletable": true,
    "editable": true
   },
   "outputs": [],
   "source": [
    "a = X.a_cycles()\n",
    "b = X.b_cycles()\n",
    "\n",
    "print a[0]"
   ]
  },
  {
   "cell_type": "code",
   "execution_count": null,
   "metadata": {
    "collapsed": false,
    "deletable": true,
    "editable": true
   },
   "outputs": [],
   "source": [
    "# plot the first a-cycle using 512 equally-spaced points\n",
    "#\n",
    "# complex x-projection:\n",
    "a[0].plot_x(512)"
   ]
  },
  {
   "cell_type": "code",
   "execution_count": null,
   "metadata": {
    "collapsed": false,
    "deletable": true,
    "editable": true
   },
   "outputs": [],
   "source": [
    "# complex y-projection\n",
    "#\n",
    "a[0].plot_y(512, color='green')"
   ]
  },
  {
   "cell_type": "code",
   "execution_count": null,
   "metadata": {
    "collapsed": false,
    "deletable": true,
    "editable": true
   },
   "outputs": [],
   "source": [
    "print 'x-values:'\n",
    "print a[0].get_x(0)\n",
    "print a[0].get_x(1.0)\n",
    "\n",
    "print 'y-values:'\n",
    "print a[0].get_y(0)[0]\n",
    "print a[0].get_y(1.0)[0]"
   ]
  },
  {
   "cell_type": "markdown",
   "metadata": {
    "deletable": true,
    "editable": true
   },
   "source": [
    "# Demo - Holomorphic Differentials"
   ]
  },
  {
   "cell_type": "code",
   "execution_count": null,
   "metadata": {
    "collapsed": false,
    "deletable": true,
    "editable": true
   },
   "outputs": [],
   "source": [
    "omega = X.holomorphic_differentials()\n",
    "for om in omega:\n",
    "    print om"
   ]
  },
  {
   "cell_type": "markdown",
   "metadata": {
    "deletable": true,
    "editable": true
   },
   "source": [
    "Compute the places above $x=0$ on $X$ and \"localize\" the differentials at that place.\n",
    "\n",
    "One place $P \\in X$ above $x=0$ looks like\n",
    "\n",
    "$$P = \\left(t, \\frac{t^4}{2} + \\frac{t^9}{16} + O(t^{11})\\right)$$"
   ]
  },
  {
   "cell_type": "code",
   "execution_count": null,
   "metadata": {
    "collapsed": false,
    "deletable": true,
    "editable": true
   },
   "outputs": [],
   "source": [
    "# localizing at a place\n",
    "#\n",
    "places = X(0)\n",
    "P = places[0]\n",
    "P.puiseux_series.extend(8)\n",
    "print P"
   ]
  },
  {
   "cell_type": "code",
   "execution_count": null,
   "metadata": {
    "collapsed": false,
    "deletable": true,
    "editable": true
   },
   "outputs": [],
   "source": [
    "omega[0].localize(P)"
   ]
  },
  {
   "cell_type": "code",
   "execution_count": null,
   "metadata": {
    "collapsed": false,
    "deletable": true,
    "editable": true
   },
   "outputs": [],
   "source": [
    "omega[1].localize(P)"
   ]
  },
  {
   "cell_type": "markdown",
   "metadata": {
    "deletable": true,
    "editable": true
   },
   "source": [
    "Another place $Q \\in X$ above $x=0$ looks like\n",
    "\n",
    "$$Q = \\left(\\frac{t^2}{2}, \\frac{t^3}{2} + \\frac{t^5}{32} + O(t^{12})\\right)$$"
   ]
  },
  {
   "cell_type": "code",
   "execution_count": null,
   "metadata": {
    "collapsed": false,
    "deletable": true,
    "editable": true
   },
   "outputs": [],
   "source": [
    "Q = places[1]\n",
    "Q.puiseux_series.extend(12)\n",
    "print Q"
   ]
  },
  {
   "cell_type": "code",
   "execution_count": null,
   "metadata": {
    "collapsed": false,
    "deletable": true,
    "editable": true
   },
   "outputs": [],
   "source": [
    "omega[0].localize(Q)"
   ]
  },
  {
   "cell_type": "code",
   "execution_count": null,
   "metadata": {
    "collapsed": false,
    "deletable": true,
    "editable": true
   },
   "outputs": [],
   "source": [
    "omega[1].localize(Q)"
   ]
  },
  {
   "cell_type": "markdown",
   "metadata": {
    "deletable": true,
    "editable": true
   },
   "source": [
    "Computing the valuation divisors of these differentials:"
   ]
  },
  {
   "cell_type": "code",
   "execution_count": null,
   "metadata": {
    "collapsed": false,
    "deletable": true,
    "editable": true
   },
   "outputs": [],
   "source": [
    "D1 = omega[0].valuation_divisor()\n",
    "print D1"
   ]
  },
  {
   "cell_type": "code",
   "execution_count": null,
   "metadata": {
    "collapsed": false,
    "deletable": true,
    "editable": true
   },
   "outputs": [],
   "source": [
    "D2 = omega[1].valuation_divisor()\n",
    "print D2"
   ]
  },
  {
   "cell_type": "markdown",
   "metadata": {
    "deletable": true,
    "editable": true
   },
   "source": [
    "**Fact:** If $\\mathcal{C}$ is canonical then $\\text{deg} \\mathcal{C} = 2g - 2$"
   ]
  },
  {
   "cell_type": "code",
   "execution_count": null,
   "metadata": {
    "collapsed": false,
    "deletable": true,
    "editable": true
   },
   "outputs": [],
   "source": [
    "g = X.genus()\n",
    "D1.degree == 2*g-2"
   ]
  },
  {
   "cell_type": "code",
   "execution_count": null,
   "metadata": {
    "collapsed": false,
    "deletable": true,
    "editable": true
   },
   "outputs": [],
   "source": [
    "D2.degree == 2*g-2"
   ]
  },
  {
   "cell_type": "markdown",
   "metadata": {
    "deletable": true,
    "editable": true
   },
   "source": [
    "We can plot these differentials along a path $\\gamma \\subset X$.\n",
    "\n",
    "For example, the $a$- and $b$-cycles:"
   ]
  },
  {
   "cell_type": "code",
   "execution_count": null,
   "metadata": {
    "collapsed": false,
    "deletable": true,
    "editable": true
   },
   "outputs": [],
   "source": [
    "#omega[0].plot(a[0])"
   ]
  },
  {
   "cell_type": "markdown",
   "metadata": {
    "deletable": true,
    "editable": true
   },
   "source": [
    "# Demo - Period Matrices\n",
    "\n",
    "Integrating each of the holomorphic differentials around each of the a- and b-cycles."
   ]
  },
  {
   "cell_type": "code",
   "execution_count": null,
   "metadata": {
    "collapsed": false,
    "deletable": true,
    "editable": true
   },
   "outputs": [],
   "source": [
    "g = X.genus()\n",
    "tau = X.period_matrix()\n",
    "\n",
    "A = tau[:,:g]\n",
    "B = tau[:,g:]\n",
    "\n",
    "print A\n",
    "print\n",
    "print B"
   ]
  },
  {
   "cell_type": "code",
   "execution_count": null,
   "metadata": {
    "collapsed": false,
    "deletable": true,
    "editable": true
   },
   "outputs": [],
   "source": [
    "a[0].integrate(omega[0])"
   ]
  },
  {
   "cell_type": "code",
   "execution_count": null,
   "metadata": {
    "collapsed": false,
    "deletable": true,
    "editable": true
   },
   "outputs": [],
   "source": [
    "Omega = X.riemann_matrix()\n",
    "\n",
    "print Omega"
   ]
  },
  {
   "cell_type": "code",
   "execution_count": null,
   "metadata": {
    "collapsed": false,
    "deletable": true,
    "editable": true
   },
   "outputs": [],
   "source": [
    "from numpy.linalg import norm, eigvals\n",
    "\n",
    "print 'symmetric?    ', norm(Omega - Omega.T)\n",
    "print 'pos. definite?', eigvals(Omega.imag)"
   ]
  },
  {
   "cell_type": "markdown",
   "metadata": {
    "deletable": true,
    "editable": true
   },
   "source": [
    "# Demo - The Abel Map\n",
    "\n",
    "Given a fixed *base place* $P_0 \\in X$, the Abel Map $A : X \\to J(X)$ is defined\n",
    "\n",
    "$$A(P) = \\left( \\int_{P_0}^P \\omega_1, \\ldots, \\int_{P_0}^P \\omega_g \\right)$$\n",
    "\n",
    "If $\\mathcal{D} = \\sum_i n_iP_i$ is a *divisor* on $X$ then\n",
    "\n",
    "$$\n",
    "A(\\mathcal{D}) = \\sum_i n_i A(P_i).\n",
    "$$"
   ]
  },
  {
   "cell_type": "code",
   "execution_count": null,
   "metadata": {
    "collapsed": false,
    "deletable": true,
    "editable": true
   },
   "outputs": [],
   "source": [
    "# pick two places\n",
    "P = X(0)[0]\n",
    "Q = X(I)[0]\n",
    "\n",
    "# construct a divisor\n",
    "D = 3*P + Q"
   ]
  },
  {
   "cell_type": "code",
   "execution_count": null,
   "metadata": {
    "collapsed": false,
    "deletable": true,
    "editable": true
   },
   "outputs": [],
   "source": [
    "X.base_place"
   ]
  },
  {
   "cell_type": "code",
   "execution_count": null,
   "metadata": {
    "collapsed": false,
    "deletable": true,
    "editable": true
   },
   "outputs": [],
   "source": [
    "J = Jacobian(X)   # reduces vectors modulo lattice ZZ^g + Omega ZZ^g\n",
    "z1 = AbelMap(P)   # Abel map from P0 to P\n",
    "z2 = AbelMap(Q)   # Abel map from P0 to Q\n",
    "z3 = AbelMap(P,Q) # Abel map from P to Q\n",
    "print z1\n",
    "print z2\n",
    "print z3\n",
    "\n",
    "# numerically verify that A(P,Q) = A(P0,Q) - A(P0,P)\n",
    "import numpy\n",
    "print\n",
    "print numpy.linalg.norm( J((z2-z1) - z3) )"
   ]
  },
  {
   "cell_type": "code",
   "execution_count": null,
   "metadata": {
    "collapsed": false,
    "deletable": true,
    "editable": true
   },
   "outputs": [],
   "source": [
    "AbelMap(D)"
   ]
  },
  {
   "cell_type": "code",
   "execution_count": null,
   "metadata": {
    "collapsed": false,
    "deletable": true,
    "editable": true
   },
   "outputs": [],
   "source": [
    "Q"
   ]
  },
  {
   "cell_type": "code",
   "execution_count": null,
   "metadata": {
    "collapsed": false,
    "deletable": true,
    "editable": true
   },
   "outputs": [],
   "source": [
    "gamma = X.path(Q)\n",
    "gamma.plot_x()"
   ]
  },
  {
   "cell_type": "code",
   "execution_count": null,
   "metadata": {
    "collapsed": false,
    "deletable": true,
    "editable": true
   },
   "outputs": [],
   "source": [
    "gamma.plot_y(1000, color='green')"
   ]
  },
  {
   "cell_type": "markdown",
   "metadata": {
    "deletable": true,
    "editable": true
   },
   "source": [
    "## Riemann Constant Vector\n",
    "\n",
    "The Riemann constant vector satisfies the following two theorems:\n",
    "\n",
    "**Theorem 1:** $\\mathcal{C}$ is a canonical divisor if any only if $K(P_0) \\equiv -A(P_0,\\mathcal{C})$.\n",
    "\n",
    "**Theorem 2:** $\\theta(W,\\Omega) = 0$ if and only if $W = A(P_0,\\mathcal{D}) + K(P_0)$ where $\\mathcal{D}$ is an effective degree $g-1$ divisor.\n",
    "\n",
    "We compute $K$ below and verify that these two theorems are satisfied."
   ]
  },
  {
   "cell_type": "code",
   "execution_count": null,
   "metadata": {
    "collapsed": false,
    "deletable": true,
    "editable": true
   },
   "outputs": [],
   "source": [
    "K = RiemannConstantVector # alias the RCV function for brevity\n",
    "P0 = X.base_place\n",
    "print K(P0)"
   ]
  },
  {
   "cell_type": "code",
   "execution_count": null,
   "metadata": {
    "collapsed": true,
    "deletable": true,
    "editable": true
   },
   "outputs": [],
   "source": [
    "C = omega[0].valuation_divisor()"
   ]
  },
  {
   "cell_type": "code",
   "execution_count": null,
   "metadata": {
    "collapsed": false,
    "deletable": true,
    "editable": true
   },
   "outputs": [],
   "source": [
    "J = Jacobian(X)\n",
    "z = J(2*K(P0) + AbelMap(C))\n",
    "print z"
   ]
  },
  {
   "cell_type": "code",
   "execution_count": null,
   "metadata": {
    "collapsed": false,
    "deletable": true,
    "editable": true
   },
   "outputs": [],
   "source": [
    "W = K(P0)\n",
    "v = RiemannTheta.oscillatory_part(W,Omega)\n",
    "print abs(v)"
   ]
  },
  {
   "cell_type": "code",
   "execution_count": null,
   "metadata": {
    "collapsed": false,
    "deletable": true,
    "editable": true
   },
   "outputs": [],
   "source": [
    "D = X(2)[0]\n",
    "W = J(AbelMap(D) + K(P0))\n",
    "v = RiemannTheta.oscillatory_part(W, Omega)\n",
    "print abs(v)"
   ]
  },
  {
   "cell_type": "code",
   "execution_count": null,
   "metadata": {
    "collapsed": true,
    "deletable": true,
    "editable": true
   },
   "outputs": [],
   "source": []
  }
 ],
 "metadata": {
  "kernelspec": {
   "display_name": "SageMath 8.1",
   "language": "",
   "name": "sagemath"
  },
  "language_info": {
   "codemirror_mode": {
    "name": "ipython",
    "version": 2
   },
   "file_extension": ".py",
   "mimetype": "text/x-python",
   "name": "python",
   "nbconvert_exporter": "python",
   "pygments_lexer": "ipython2",
   "version": "2.7.14"
  }
 },
 "nbformat": 4,
 "nbformat_minor": 0
}
