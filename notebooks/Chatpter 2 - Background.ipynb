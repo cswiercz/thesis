{
 "cells": [
  {
   "cell_type": "code",
   "execution_count": 1,
   "metadata": {
    "collapsed": false,
    "deletable": true,
    "editable": true
   },
   "outputs": [
    {
     "data": {
      "text/plain": [
       "'1.5.1'"
      ]
     },
     "execution_count": 1,
     "metadata": {},
     "output_type": "execute_result"
    }
   ],
   "source": [
    "import matplotlib\n",
    "import matplotlib.colors as colors\n",
    "\n",
    "matplotlib.__version__"
   ]
  },
  {
   "cell_type": "markdown",
   "metadata": {
    "deletable": true,
    "editable": true
   },
   "source": [
    "# Section 2.2"
   ]
  },
  {
   "cell_type": "code",
   "execution_count": 2,
   "metadata": {
    "collapsed": false,
    "deletable": true,
    "editable": true
   },
   "outputs": [
    {
     "data": {
      "text/plain": [
       "Multivariate Polynomial Ring in x, y over Rational Field"
      ]
     },
     "execution_count": 2,
     "metadata": {},
     "output_type": "execute_result"
    }
   ],
   "source": [
    "from abelfunctions import *\n",
    "R.<x,y> = QQ['x,y']; R"
   ]
  },
  {
   "cell_type": "code",
   "execution_count": 3,
   "metadata": {
    "collapsed": false,
    "deletable": true,
    "editable": true
   },
   "outputs": [],
   "source": [
    "f2 = y^3 + 2*x^3*y - x^7\n",
    "X2 = RiemannSurface(f2)\n",
    "f4 = x^2*y^3 - x^4 + 1\n",
    "X4 = RiemannSurface(f4)"
   ]
  },
  {
   "cell_type": "markdown",
   "metadata": {
    "deletable": true,
    "editable": true
   },
   "source": [
    "# Section 2.2.1 - Puiseux Series\n",
    "\n",
    "## Example 2.2.2"
   ]
  },
  {
   "cell_type": "code",
   "execution_count": null,
   "metadata": {
    "collapsed": false,
    "deletable": true,
    "editable": true
   },
   "outputs": [],
   "source": [
    "P1, P2 = X2(0) # the places above x=0 on the surface\n",
    "P1"
   ]
  },
  {
   "cell_type": "code",
   "execution_count": null,
   "metadata": {
    "collapsed": false,
    "deletable": true,
    "editable": true
   },
   "outputs": [],
   "source": [
    "P1.puiseux_series.extend(14) # extend the curve to at least O(t^14) sage: P1\n",
    "P1"
   ]
  },
  {
   "cell_type": "code",
   "execution_count": null,
   "metadata": {
    "collapsed": false,
    "deletable": true,
    "editable": true
   },
   "outputs": [],
   "source": [
    "P2"
   ]
  },
  {
   "cell_type": "code",
   "execution_count": null,
   "metadata": {
    "collapsed": false,
    "deletable": true,
    "editable": true
   },
   "outputs": [],
   "source": [
    "P2.puiseux_series.extend(13)\n",
    "P2"
   ]
  },
  {
   "cell_type": "code",
   "execution_count": null,
   "metadata": {
    "collapsed": false,
    "deletable": true,
    "editable": true
   },
   "outputs": [],
   "source": [
    "P = implicit_plot(f2, (x, -1.5, 1.5), (y, -1.5, 1.5), gridlines=True, linewidth=2, color='black')\n",
    "\n",
    "P.show(\n",
    "    legend_loc='lower_right',\n",
    "    title='$f_2(x,y) = y^3 + 2x^3y - x^7 = 0$',\n",
    "    axes_labels=('$x$', '$y$'),\n",
    "    fontsize=16,\n",
    "    dpi=150\n",
    ")"
   ]
  },
  {
   "cell_type": "code",
   "execution_count": null,
   "metadata": {
    "collapsed": false,
    "deletable": true,
    "editable": true
   },
   "outputs": [],
   "source": [
    "P1, P2 = X2(0)\n",
    "\n",
    "t = P1.puiseux_series.t\n",
    "P1x = P1.puiseux_series.xpart\n",
    "P1y = P1.puiseux_series.ypart\n",
    "\n",
    "P2x = P2.puiseux_series.xpart\n",
    "P2y = P2.puiseux_series.ypart\n",
    "\n",
    "P = implicit_plot(f2, (x, -1.5, 1.5), (y, -1.5, 1.5), gridlines=True, linewidth=2, color='black')\n",
    "P += parametric_plot((P1x, P1y), (t, -1.3,1.3), thickness=5, linestyle='--', color='blue', legend_label='$P_1$')\n",
    "P += parametric_plot((P2x, P2y), (t, -1.3,1.3), thickness=5, linestyle=':', color='green', legend_label='$P_2$')\n",
    "P.set_legend_options(loc='lower right')\n",
    "\n",
    "\n",
    "P.show(\n",
    "    legend_loc='lower_right',\n",
    "    title='$f_2(x,y) = y^3 + 2x^3y - x^7 = 0$',\n",
    "    axes_labels=('$x$', '$y$'),\n",
    "    fontsize=16,\n",
    "    dpi=150\n",
    ")"
   ]
  },
  {
   "cell_type": "markdown",
   "metadata": {
    "deletable": true,
    "editable": true
   },
   "source": [
    "## Example 2.2.3"
   ]
  },
  {
   "cell_type": "code",
   "execution_count": null,
   "metadata": {
    "collapsed": false,
    "deletable": true,
    "editable": true
   },
   "outputs": [],
   "source": [
    "P, = X4(0); P"
   ]
  },
  {
   "cell_type": "code",
   "execution_count": null,
   "metadata": {
    "collapsed": false,
    "deletable": true,
    "editable": true
   },
   "outputs": [],
   "source": [
    "P.puiseux_series.extend(14); P"
   ]
  },
  {
   "cell_type": "code",
   "execution_count": null,
   "metadata": {
    "collapsed": false,
    "deletable": true,
    "editable": true
   },
   "outputs": [],
   "source": [
    "P, = X4(0)\n",
    "\n",
    "t = P.puiseux_series.t\n",
    "Px = P.puiseux_series.xpart\n",
    "Py = P.puiseux_series.ypart\n",
    "\n",
    "plt = implicit_plot(f4, (x, -4.5, 4.5), (y, -4.5, 4.5), gridlines=True, linewidth=2, color='black')\n",
    "plt += parametric_plot((Px, Py), (t, -1.5, -0.49), thickness=5, linestyle='--', color='blue', legend_label='$P_1$')\n",
    "plt += parametric_plot((Px, Py), (t, 0.49, 1.5), thickness=5, linestyle='--', color='blue')\n",
    "plt.set_legend_options(loc='lower right')\n",
    "\n",
    "\n",
    "plt.show(\n",
    "    legend_loc='lower_right',\n",
    "    title='$f_4(x,y) = x^2y^3 - x^4 + 1 = 0$',\n",
    "    axes_labels=('$x$', '$y$'),\n",
    "    fontsize=16,\n",
    "    dpi=150,\n",
    "#    xmin=-4.5,\n",
    "#    xmax=4.5,\n",
    "#    ymin=-4.5,\n",
    "#    ymax=4.5\n",
    ")"
   ]
  },
  {
   "cell_type": "markdown",
   "metadata": {
    "deletable": true,
    "editable": true
   },
   "source": [
    "# 2.2.2 Singularities\n",
    "\n",
    "## Example"
   ]
  },
  {
   "cell_type": "code",
   "execution_count": null,
   "metadata": {
    "collapsed": false,
    "deletable": true,
    "editable": true
   },
   "outputs": [],
   "source": [
    "S = singularities.singularities(f2)\n",
    "for s, (m, delta, r) in S:\n",
    "    print 'Singularity:', s\n",
    "    print '\\tmultiplicity     =', m\n",
    "    print '\\tdelta invariant  =', delta\n",
    "    print '\\tbranching number =', r"
   ]
  },
  {
   "cell_type": "code",
   "execution_count": null,
   "metadata": {
    "collapsed": false,
    "deletable": true,
    "editable": true
   },
   "outputs": [],
   "source": [
    "singularities.genus(f2)"
   ]
  },
  {
   "cell_type": "code",
   "execution_count": null,
   "metadata": {
    "collapsed": false,
    "deletable": true,
    "editable": true
   },
   "outputs": [],
   "source": [
    "S = singularities.singularities(f4)\n",
    "for s, (m, delta, r) in S:\n",
    "    print 'Singularity:', s\n",
    "    print '\\tmultiplicity     =', m\n",
    "    print '\\tdelta invariant  =', delta\n",
    "    print '\\tbranching number =', r"
   ]
  },
  {
   "cell_type": "code",
   "execution_count": null,
   "metadata": {
    "collapsed": false,
    "deletable": true,
    "editable": true
   },
   "outputs": [],
   "source": [
    "f_ = (y^2-x^2)*(x-1)*(2*x-3) - 4*(x^2+y^2-2*x)^2\n",
    "\n",
    "P = implicit_plot(f_, (x, -1, 3), (y, -1.5, 1.5), gridlines=True, linewidth=2, color='black')\n",
    "\n",
    "P.show(\n",
    "    legend_loc='lower_right',\n",
    "    title='$f(x,y) = (y^2-x^2)(x-1)(2x-3) - 4(x^2+y^2-2x)^2$',\n",
    "    axes_labels=('$x$', '$y$'),\n",
    "    fontsize=16,\n",
    "    dpi=150\n",
    ")"
   ]
  },
  {
   "cell_type": "code",
   "execution_count": null,
   "metadata": {
    "collapsed": false,
    "deletable": true,
    "editable": true
   },
   "outputs": [],
   "source": [
    "dfx = f_.derivative(x)\n",
    "dfy = f_.derivative(y)\n",
    "\n",
    "print('gradient:')\n",
    "print(SR(dfx).simplify_rational())\n",
    "print(SR(dfy).simplify_rational())\n",
    "\n",
    "print('\\ngradient at (1,-1)')\n",
    "print(dfx(1,-1))\n",
    "print(dfy(1,-1))"
   ]
  },
  {
   "cell_type": "code",
   "execution_count": null,
   "metadata": {
    "collapsed": false,
    "deletable": true,
    "editable": true
   },
   "outputs": [],
   "source": [
    "S = singularities.singularities(f_)\n",
    "for s, (m, delta, r) in S:\n",
    "    print 'Singularity:', s\n",
    "    print '\\tmultiplicity     =', m\n",
    "    print '\\tdelta invariant  =', delta\n",
    "    print '\\tbranching number =', r"
   ]
  },
  {
   "cell_type": "code",
   "execution_count": null,
   "metadata": {
    "collapsed": false,
    "deletable": true,
    "editable": true
   },
   "outputs": [],
   "source": [
    "f_.total_degree()"
   ]
  },
  {
   "cell_type": "markdown",
   "metadata": {
    "deletable": true,
    "editable": true
   },
   "source": [
    "# 2.2.3 Analytic Continuation"
   ]
  },
  {
   "cell_type": "code",
   "execution_count": 4,
   "metadata": {
    "collapsed": false,
    "deletable": true,
    "editable": true
   },
   "outputs": [
    {
     "data": {
      "text/html": [
       "<html><script type=\"math/tex; mode=display\">\\newcommand{\\Bold}[1]{\\mathbf{#1}}-2 i \\, \\sqrt{7} - 2</script></html>"
      ],
      "text/plain": [
       "-2*I*sqrt(7) - 2"
      ]
     },
     "metadata": {},
     "output_type": "display_data"
    },
    {
     "data": {
      "text/html": [
       "<html><script type=\"math/tex; mode=display\">\\newcommand{\\Bold}[1]{\\mathbf{#1}}2 i \\, \\sqrt{7} - 2</script></html>"
      ],
      "text/plain": [
       "2*I*sqrt(7) - 2"
      ]
     },
     "metadata": {},
     "output_type": "display_data"
    },
    {
     "data": {
      "text/html": [
       "<html><script type=\"math/tex; mode=display\">\\newcommand{\\Bold}[1]{\\mathbf{#1}}4</script></html>"
      ],
      "text/plain": [
       "4"
      ]
     },
     "metadata": {},
     "output_type": "display_data"
    }
   ],
   "source": [
    "f2_x2 = f2(x=2).univariate_polynomial()\n",
    "roots = SR(f2_x2).roots()\n",
    "\n",
    "for (r,m) in roots:\n",
    "    show(r.simplify())"
   ]
  },
  {
   "cell_type": "code",
   "execution_count": 6,
   "metadata": {
    "collapsed": false
   },
   "outputs": [
    {
     "data": {
      "image/png": "[encoded data removed]",
      "text/plain": [
       "Graphics object consisting of 2 graphics primitives"
      ]
     },
     "execution_count": 6,
     "metadata": {},
     "output_type": "execute_result"
    }
   ],
   "source": [
    "import abelfunctions\n",
    "import numpy as np\n",
    "\n",
    "gammax = (\n",
    "    abelfunctions.complex_path_factory.ComplexArc(2, 0, 0, np.pi) +\n",
    "    abelfunctions.complex_path_factory.ComplexArc(2, 0, np.pi, np.pi))\n",
    "gammax.plot()"
   ]
  },
  {
   "cell_type": "code",
   "execution_count": 7,
   "metadata": {
    "collapsed": false
   },
   "outputs": [
    {
     "data": {
      "text/plain": [
       "Path on the Riemann surface defined by f = -x^7 + 2*x^3*y + y^3 with x-projection Complex path from (2+0j) to (2-4.89858719659e-16j)"
      ]
     },
     "execution_count": 7,
     "metadata": {},
     "output_type": "execute_result"
    }
   ],
   "source": [
    "import numpy as np\n",
    "\n",
    "X2 = RiemannSurface(f2)\n",
    "y0 = [np.complex(root) for (root,multiplicity) in f2_x2.roots(CC)]\n",
    "\n",
    "gamma = X2.path_factory.RiemannSurfacePath_from_complex_path(gammax, x0=2, y0=y0)\n",
    "gamma"
   ]
  },
  {
   "cell_type": "code",
   "execution_count": null,
   "metadata": {
    "collapsed": false
   },
   "outputs": [],
   "source": [
    "gamma[2].plot_y()"
   ]
  },
  {
   "cell_type": "code",
   "execution_count": 17,
   "metadata": {
    "collapsed": false
   },
   "outputs": [
    {
     "data": {
      "image/png": "[encoded data removed]",
      "text/plain": [
       "Graphics object consisting of 1 graphics primitive"
      ]
     },
     "execution_count": 17,
     "metadata": {},
     "output_type": "execute_result"
    }
   ],
   "source": [
    "gamma[1].plot_y(color='green')"
   ]
  },
  {
   "cell_type": "code",
   "execution_count": null,
   "metadata": {
    "collapsed": false,
    "deletable": true,
    "editable": true
   },
   "outputs": [],
   "source": [
    "gamma[2].plot_y(color='red')"
   ]
  },
  {
   "cell_type": "code",
   "execution_count": null,
   "metadata": {
    "collapsed": true
   },
   "outputs": [],
   "source": []
  },
  {
   "cell_type": "code",
   "execution_count": null,
   "metadata": {
    "collapsed": true
   },
   "outputs": [],
   "source": []
  },
  {
   "cell_type": "code",
   "execution_count": null,
   "metadata": {
    "collapsed": true
   },
   "outputs": [],
   "source": []
  },
  {
   "cell_type": "code",
   "execution_count": null,
   "metadata": {
    "collapsed": true
   },
   "outputs": [],
   "source": []
  },
  {
   "cell_type": "code",
   "execution_count": null,
   "metadata": {
    "collapsed": true
   },
   "outputs": [],
   "source": []
  },
  {
   "cell_type": "markdown",
   "metadata": {},
   "source": [
    "# (Next Section)"
   ]
  },
  {
   "cell_type": "code",
   "execution_count": null,
   "metadata": {
    "collapsed": true
   },
   "outputs": [],
   "source": []
  },
  {
   "cell_type": "code",
   "execution_count": null,
   "metadata": {
    "collapsed": true
   },
   "outputs": [],
   "source": []
  },
  {
   "cell_type": "code",
   "execution_count": null,
   "metadata": {
    "collapsed": false,
    "deletable": true,
    "editable": true
   },
   "outputs": [],
   "source": [
    "dfy.simplify_rational()"
   ]
  },
  {
   "cell_type": "code",
   "execution_count": null,
   "metadata": {
    "collapsed": true,
    "deletable": true,
    "editable": true
   },
   "outputs": [],
   "source": []
  },
  {
   "cell_type": "code",
   "execution_count": null,
   "metadata": {
    "collapsed": true,
    "deletable": true,
    "editable": true
   },
   "outputs": [],
   "source": []
  },
  {
   "cell_type": "code",
   "execution_count": null,
   "metadata": {
    "collapsed": false,
    "deletable": true,
    "editable": true
   },
   "outputs": [],
   "source": [
    "omega = X4.holomorphic_differentials()"
   ]
  },
  {
   "cell_type": "code",
   "execution_count": null,
   "metadata": {
    "collapsed": false,
    "deletable": true,
    "editable": true
   },
   "outputs": [],
   "source": [
    "C0 = omega[0].valuation_divisor()\n",
    "for place, multiplicity in C0:\n",
    "    print multiplicity, place"
   ]
  },
  {
   "cell_type": "code",
   "execution_count": null,
   "metadata": {
    "collapsed": false,
    "deletable": true,
    "editable": true
   },
   "outputs": [],
   "source": [
    "C0.degree"
   ]
  },
  {
   "cell_type": "code",
   "execution_count": null,
   "metadata": {
    "collapsed": false,
    "deletable": true,
    "editable": true
   },
   "outputs": [],
   "source": [
    "C1 = omega[1].valuation_divisor()\n",
    "for place, multiplicity in C1:\n",
    "    print multiplicity, place"
   ]
  },
  {
   "cell_type": "code",
   "execution_count": null,
   "metadata": {
    "collapsed": false,
    "deletable": true,
    "editable": true
   },
   "outputs": [],
   "source": [
    "C1.degree"
   ]
  },
  {
   "cell_type": "code",
   "execution_count": null,
   "metadata": {
    "collapsed": false,
    "deletable": true,
    "editable": true
   },
   "outputs": [],
   "source": [
    "C2 = omega[2].valuation_divisor()\n",
    "for place, multiplicity in C2:\n",
    "    print multiplicity, place"
   ]
  },
  {
   "cell_type": "code",
   "execution_count": null,
   "metadata": {
    "collapsed": false,
    "deletable": true,
    "editable": true
   },
   "outputs": [],
   "source": [
    "C2.degree"
   ]
  },
  {
   "cell_type": "code",
   "execution_count": null,
   "metadata": {
    "collapsed": false,
    "deletable": true,
    "editable": true
   },
   "outputs": [],
   "source": [
    "C3 = omega[3].valuation_divisor()\n",
    "for place, multiplicity in C3:\n",
    "    print multiplicity, place"
   ]
  },
  {
   "cell_type": "code",
   "execution_count": null,
   "metadata": {
    "collapsed": false,
    "deletable": true,
    "editable": true
   },
   "outputs": [],
   "source": [
    "C3.degree"
   ]
  },
  {
   "cell_type": "code",
   "execution_count": null,
   "metadata": {
    "collapsed": true,
    "deletable": true,
    "editable": true
   },
   "outputs": [],
   "source": []
  },
  {
   "cell_type": "code",
   "execution_count": null,
   "metadata": {
    "collapsed": true,
    "deletable": true,
    "editable": true
   },
   "outputs": [],
   "source": []
  },
  {
   "cell_type": "code",
   "execution_count": null,
   "metadata": {
    "collapsed": false,
    "deletable": true,
    "editable": true
   },
   "outputs": [],
   "source": [
    "a2 = X2.a_cycles()\n",
    "b2 = X2.b_cycles()\n",
    "\n",
    "a2[0].plot_x(512, color='blue', thickness=2)"
   ]
  },
  {
   "cell_type": "code",
   "execution_count": null,
   "metadata": {
    "collapsed": false,
    "deletable": true,
    "editable": true
   },
   "outputs": [],
   "source": [
    "a2[0].plot_y(512, color='green', thickness=2)"
   ]
  },
  {
   "cell_type": "code",
   "execution_count": null,
   "metadata": {
    "collapsed": true,
    "deletable": true,
    "editable": true
   },
   "outputs": [],
   "source": []
  },
  {
   "cell_type": "code",
   "execution_count": null,
   "metadata": {
    "collapsed": false,
    "deletable": true,
    "editable": true
   },
   "outputs": [],
   "source": [
    "a4 = X4.a_cycles()\n",
    "b4 = X4.b_cycles()\n",
    "\n",
    "a4[0].plot_x(512, color='blue', thickness=2)"
   ]
  },
  {
   "cell_type": "code",
   "execution_count": null,
   "metadata": {
    "collapsed": false,
    "deletable": true,
    "editable": true
   },
   "outputs": [],
   "source": [
    "a4[0].plot_y(512, color='green', thickness=2)"
   ]
  },
  {
   "cell_type": "code",
   "execution_count": null,
   "metadata": {
    "collapsed": false,
    "deletable": true,
    "editable": true
   },
   "outputs": [],
   "source": []
  }
 ],
 "metadata": {
  "kernelspec": {
   "display_name": "SageMath 8.1",
   "language": "",
   "name": "sagemath"
  },
  "language_info": {
   "codemirror_mode": {
    "name": "ipython",
    "version": 2
   },
   "file_extension": ".py",
   "mimetype": "text/x-python",
   "name": "python",
   "nbconvert_exporter": "python",
   "pygments_lexer": "ipython2",
   "version": "2.7.14"
  }
 },
 "nbformat": 4,
 "nbformat_minor": 2
}
