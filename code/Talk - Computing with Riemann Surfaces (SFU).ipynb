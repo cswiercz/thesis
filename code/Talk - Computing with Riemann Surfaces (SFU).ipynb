{
 "cells": [
  {
   "cell_type": "markdown",
   "metadata": {},
   "source": [
    "# Computing with Riemann Surfaces\n",
    "\n",
    "First, we construct the Riemann surface, $X$, defined by the complex algebraic curve\n",
    "\n",
    "$$\n",
    "f(x,y) = y^3 - 2x^3y + x^7.\n",
    "$$"
   ]
  },
  {
   "cell_type": "code",
   "execution_count": 1,
   "metadata": {
    "collapsed": false
   },
   "outputs": [
    {
     "name": "stdout",
     "output_type": "stream",
     "text": [
      "Riemann surface defined by f = x^2*y^3 - x^4 + 1\n",
      "4\n"
     ]
    }
   ],
   "source": [
    "# import the main Abelfunctions functionality\n",
    "from abelfunctions import (\n",
    "    RiemannSurface,\n",
    "    AbelMap,\n",
    "    RiemannConstantVector,\n",
    "    Jacobian,\n",
    "    puiseux,\n",
    "    RiemannTheta,\n",
    ")\n",
    "\n",
    "# construct a Sage polynomial ring and the above curve\n",
    "R.<x,y> = QQ[]\n",
    "f = y**3 - 2*x**3*y + x**7\n",
    "f = x**2*y**3 - x**4 + 1  # a genus 4 example\n",
    "#f = x**2*y**3 - x**4 + y\n",
    "#ftrott = 144*(x**4 + y**4) - 225*(x**2 + y**2) + 350*x**2*y**2 + 81\n",
    "#f = ftrott\n",
    "#fdividing = -180*x**5 + 396*y*x**4 - 307*x**3*y**2 + 107*x**2*y**3 + 273*x**3 - 318*x**2*y - 17*x*y**4 + 117*x*y**2 - 68*x + y**5 - 12*y**3 + 19*y   \n",
    "#f = fdividing\n",
    "\n",
    "# construct the corresponding Riemann surface\n",
    "X = RiemannSurface(f)\n",
    "print X\n",
    "print X.genus()"
   ]
  },
  {
   "cell_type": "code",
   "execution_count": null,
   "metadata": {
    "collapsed": false
   },
   "outputs": [],
   "source": []
  },
  {
   "cell_type": "code",
   "execution_count": null,
   "metadata": {
    "collapsed": false
   },
   "outputs": [],
   "source": []
  },
  {
   "cell_type": "code",
   "execution_count": 3,
   "metadata": {
    "collapsed": false
   },
   "outputs": [
    {
     "data": {
      "text/plain": [
       "[-1*I, -1, 0, 1, 1*I, +Infinity]"
      ]
     },
     "execution_count": 3,
     "metadata": {},
     "output_type": "execute_result"
    }
   ],
   "source": [
    "X.branch_points"
   ]
  },
  {
   "cell_type": "markdown",
   "metadata": {},
   "source": [
    "# Demo - Places and Divisors\n",
    "\n",
    "Computing the places \"above\" $x=0$ on the underlying curve, $C: f(x,y) = 0$.\n",
    "\n",
    "$$P(0) = (0, \\beta)$$\n",
    "\n",
    "$x=0$ is a branch point of $f$ so one of these places is \"ramified\"."
   ]
  },
  {
   "cell_type": "code",
   "execution_count": 10,
   "metadata": {
    "collapsed": false
   },
   "outputs": [
    {
     "data": {
      "text/plain": [
       "[-1*I, -1, 0, 1, 1*I, +Infinity]"
      ]
     },
     "execution_count": 10,
     "metadata": {},
     "output_type": "execute_result"
    }
   ],
   "source": [
    "b = X.branch_points; b"
   ]
  },
  {
   "cell_type": "code",
   "execution_count": 15,
   "metadata": {
    "collapsed": false
   },
   "outputs": [
    {
     "name": "stdout",
     "output_type": "stream",
     "text": [
      "(-t^3, -t^-2 + O(t^0))\n"
     ]
    }
   ],
   "source": [
    "places = X(0)\n",
    "for P in places: print P"
   ]
  },
  {
   "cell_type": "code",
   "execution_count": 18,
   "metadata": {
    "collapsed": false
   },
   "outputs": [
    {
     "data": {
      "text/plain": [
       "(-t^3, -t^-2 + 1/3*t^10 + 1/9*t^22 + O(t^31))"
      ]
     },
     "execution_count": 18,
     "metadata": {},
     "output_type": "execute_result"
    }
   ],
   "source": [
    "P.puiseux_series.extend(16); P"
   ]
  },
  {
   "cell_type": "code",
   "execution_count": 5,
   "metadata": {
    "collapsed": false
   },
   "outputs": [
    {
     "name": "stdout",
     "output_type": "stream",
     "text": [
      "1\n",
      "[]\n"
     ]
    }
   ],
   "source": [
    "# roots of f(0,y)\n",
    "#\n",
    "print f(0,y)\n",
    "print f(0,y).univariate_polynomial().roots()"
   ]
  },
  {
   "cell_type": "code",
   "execution_count": 6,
   "metadata": {
    "collapsed": false
   },
   "outputs": [
    {
     "name": "stdout",
     "output_type": "stream",
     "text": [
      "-t^3\n",
      "-t^-2\n",
      "\n",
      "-t^12\n"
     ]
    }
   ],
   "source": [
    "xt = P.puiseux_series.xpart\n",
    "yt = P.puiseux_series.ypart\n",
    "\n",
    "print xt\n",
    "print yt\n",
    "print\n",
    "print f(xt,yt)"
   ]
  },
  {
   "cell_type": "code",
   "execution_count": 7,
   "metadata": {
    "collapsed": false
   },
   "outputs": [
    {
     "name": "stdout",
     "output_type": "stream",
     "text": [
      "-t^3\n",
      "-t^-2 + 1/3*t^10 + 1/9*t^22\n",
      "\n",
      "-5/27*t^36 + 1/81*t^60 + 1/729*t^72\n"
     ]
    }
   ],
   "source": [
    "P.puiseux_series.extend(20)\n",
    "\n",
    "xt = P.puiseux_series.xpart\n",
    "yt = P.puiseux_series.ypart\n",
    "\n",
    "print xt\n",
    "print yt\n",
    "print\n",
    "print f(xt,yt)"
   ]
  },
  {
   "cell_type": "code",
   "execution_count": 6,
   "metadata": {
    "collapsed": false
   },
   "outputs": [
    {
     "data": {
      "text/plain": [
       "[-0.836979627962047? - 0.6081012947885316?*I,\n",
       " 0.3196977699902598? - 0.9839285635706634?*I,\n",
       " 0,\n",
       " 1.034563715943573?,\n",
       " 0.3196977699902598? + 0.9839285635706634?*I,\n",
       " -0.836979627962047? + 0.6081012947885316?*I,\n",
       " +Infinity]"
      ]
     },
     "execution_count": 6,
     "metadata": {},
     "output_type": "execute_result"
    }
   ],
   "source": [
    "X.branch_points"
   ]
  },
  {
   "cell_type": "markdown",
   "metadata": {},
   "source": [
    "$x=1$ is not a branch point of $f$, so the places above $x=1$ are completely described by the roots of\n",
    "\n",
    "$$f(1,y) = 0$$"
   ]
  },
  {
   "cell_type": "code",
   "execution_count": 7,
   "metadata": {
    "collapsed": false
   },
   "outputs": [
    {
     "name": "stdout",
     "output_type": "stream",
     "text": [
      "(1, -1.618033988749895?)\n",
      "(1, 0.618033988749895?)\n",
      "(1, 1)\n"
     ]
    }
   ],
   "source": [
    "places = X(1)\n",
    "\n",
    "for P in places:\n",
    "    print P"
   ]
  },
  {
   "cell_type": "markdown",
   "metadata": {},
   "source": [
    "We can still request the puiseux series representations at these places."
   ]
  },
  {
   "cell_type": "code",
   "execution_count": 8,
   "metadata": {
    "collapsed": false
   },
   "outputs": [
    {
     "data": {
      "text/plain": [
       "[(1 + t, -1.618033988749895? + O(t^2)),\n",
       " (1 + t, 0.618033988749895? + O(t^2)),\n",
       " (1 + t, 1 + O(t^2))]"
      ]
     },
     "execution_count": 8,
     "metadata": {},
     "output_type": "execute_result"
    }
   ],
   "source": [
    "puiseux(f,1)"
   ]
  },
  {
   "cell_type": "code",
   "execution_count": 9,
   "metadata": {
    "collapsed": false
   },
   "outputs": [
    {
     "name": "stdout",
     "output_type": "stream",
     "text": [
      "(1 + t, -1.618033988749895? - 2.854101966249685?*t - 1.416407864998739?*t^2 - 0.2329623574846478?*t^3 + O(t^5))\n",
      "\n",
      "(1 + t, 0.618033988749895? + 3.854101966249685?*t + 25.41640786499874?*t^2 + 326.2329623574847?*t^3 + O(t^5))\n",
      "\n",
      "(1 + t, 1 - t - 24*t^2 - 326*t^3 + O(t^5))\n",
      "\n"
     ]
    }
   ],
   "source": [
    "for P in puiseux(f,1):\n",
    "    P.extend(4)\n",
    "    print P\n",
    "    print"
   ]
  },
  {
   "cell_type": "markdown",
   "metadata": {},
   "source": [
    "Computing the place at $x=\\infty$. (In this example there is exactly one.)"
   ]
  },
  {
   "cell_type": "code",
   "execution_count": 10,
   "metadata": {
    "collapsed": false
   },
   "outputs": [
    {
     "name": "stdout",
     "output_type": "stream",
     "text": [
      "(-t^-3, t^-7 - 2/3*t^-2 + 8/81*t^8 + O(t^10))\n"
     ]
    }
   ],
   "source": [
    "P_oo = X('oo')[0]\n",
    "P_oo.puiseux_series.extend(10)\n",
    "\n",
    "print P_oo"
   ]
  },
  {
   "cell_type": "code",
   "execution_count": 11,
   "metadata": {
    "collapsed": false
   },
   "outputs": [
    {
     "name": "stdout",
     "output_type": "stream",
     "text": [
      "6848512/129140163*t^44 - 13697024/387420489*t^49 - 84377600/3486784401*t^54 - 36700160/10460353203*t^59 + 32505856/3486784401*t^64 + 7170949120/847288609443*t^69 + 1422393344/2541865828329*t^74 - 35296116736/7625597484987*t^79 - 77355548672/22876792454961*t^84 + 50579111936/68630377364883*t^89 + 1566127947776/617673396283947*t^94 + 4462185807872/5559060566555523*t^99 - 24646535610368/16677181699666569*t^104 - 6525867261952/16677181699666569*t^109 + 735684679696384/4052555153018976267*t^114 + 1218230160982016/4052555153018976267*t^119 + 1443770436419584/12157665459056928801*t^124 - 7141661956112384/109418989131512359209*t^129 - 31868431850536960/328256967394537077627*t^134 - 27640347932753920/984770902183611232881*t^139 + 234160972732825600/8862938119652501095929*t^144 + 632538731538022400/26588814358957503287787*t^149 - 14475405587120128000/2153693963075557766310747*t^159\n"
     ]
    }
   ],
   "source": [
    "P_oo.puiseux_series.extend(32)\n",
    "\n",
    "xt = P_oo.puiseux_series.xpart\n",
    "yt = P_oo.puiseux_series.ypart\n",
    "\n",
    "print f(xt,yt)"
   ]
  },
  {
   "cell_type": "code",
   "execution_count": 12,
   "metadata": {
    "collapsed": false
   },
   "outputs": [
    {
     "name": "stdout",
     "output_type": "stream",
     "text": [
      "44\n"
     ]
    }
   ],
   "source": [
    "print f(xt,yt).valuation()  ## f(xt,yt) = a*t^{valuation} + higher order terms"
   ]
  },
  {
   "cell_type": "markdown",
   "metadata": {},
   "source": [
    "# Demo - Homology\n",
    "\n",
    "Computing a canonical basis of cycles on the Riemann surface, $X$.\n",
    "\n",
    "We can plot their projections into the affine plane."
   ]
  },
  {
   "cell_type": "code",
   "execution_count": 13,
   "metadata": {
    "collapsed": false
   },
   "outputs": [
    {
     "name": "stdout",
     "output_type": "stream",
     "text": [
      "Cycle on the Riemann surface defined by f = x^7 - 2*x^3*y + y^3\n"
     ]
    }
   ],
   "source": [
    "a = X.a_cycles()\n",
    "b = X.b_cycles()\n",
    "\n",
    "print a[0]"
   ]
  },
  {
   "cell_type": "code",
   "execution_count": 14,
   "metadata": {
    "collapsed": false
   },
   "outputs": [
    {
     "data": {
      "image/png": "[encoded data removed]",
      "text/plain": [
       "Graphics object consisting of 12 graphics primitives"
      ]
     },
     "execution_count": 14,
     "metadata": {},
     "output_type": "execute_result"
    }
   ],
   "source": [
    "# plot the first a-cycle using 512 equally-spaced points\n",
    "#\n",
    "# complex x-projection:\n",
    "a[0].plot_x(512)"
   ]
  },
  {
   "cell_type": "code",
   "execution_count": 15,
   "metadata": {
    "collapsed": false
   },
   "outputs": [
    {
     "data": {
      "image/png": "[encoded data removed]",
      "text/plain": [
       "Graphics object consisting of 1 graphics primitive"
      ]
     },
     "execution_count": 15,
     "metadata": {},
     "output_type": "execute_result"
    }
   ],
   "source": [
    "# complex y-projection\n",
    "#\n",
    "a[0].plot_y(512, color='green')"
   ]
  },
  {
   "cell_type": "code",
   "execution_count": 16,
   "metadata": {
    "collapsed": false
   },
   "outputs": [
    {
     "name": "stdout",
     "output_type": "stream",
     "text": [
      "x-values:\n",
      "(-2+0j)\n",
      "(-2+0j)\n",
      "y-values:\n",
      "(4+0j)\n",
      "(4+0j)\n"
     ]
    }
   ],
   "source": [
    "print 'x-values:'\n",
    "print a[0].get_x(0)\n",
    "print a[0].get_x(1.0)\n",
    "\n",
    "print 'y-values:'\n",
    "print a[0].get_y(0)[0]\n",
    "print a[0].get_y(1.0)[0]"
   ]
  },
  {
   "cell_type": "markdown",
   "metadata": {},
   "source": [
    "# Demo - Holomorphic Differentials"
   ]
  },
  {
   "cell_type": "code",
   "execution_count": 17,
   "metadata": {
    "collapsed": false
   },
   "outputs": [
    {
     "name": "stdout",
     "output_type": "stream",
     "text": [
      "x*y/((-2)*x^3 + 3*y^2)\n",
      "x^3/((-2)*x^3 + 3*y^2)\n"
     ]
    }
   ],
   "source": [
    "omega = X.holomorphic_differentials()\n",
    "for om in omega:\n",
    "    print om"
   ]
  },
  {
   "cell_type": "markdown",
   "metadata": {},
   "source": [
    "Compute the places above $x=0$ on $X$ and \"localize\" the differentials at that place.\n",
    "\n",
    "One place $P \\in X$ above $x=0$ looks like\n",
    "\n",
    "$$P = \\left(t, \\frac{t^4}{2} + \\frac{t^9}{16} + O(t^{11})\\right)$$"
   ]
  },
  {
   "cell_type": "code",
   "execution_count": 18,
   "metadata": {
    "collapsed": false
   },
   "outputs": [
    {
     "name": "stdout",
     "output_type": "stream",
     "text": [
      "(t, 1/2*t^4 + 1/16*t^9 + O(t^11))\n"
     ]
    }
   ],
   "source": [
    "# localizing at a place\n",
    "#\n",
    "places = X(0)\n",
    "P = places[0]\n",
    "P.puiseux_series.extend(8)\n",
    "print P"
   ]
  },
  {
   "cell_type": "code",
   "execution_count": 19,
   "metadata": {
    "collapsed": false
   },
   "outputs": [
    {
     "data": {
      "text/plain": [
       "-1/4*t^2 - 1/8*t^7 + O(t^9)"
      ]
     },
     "execution_count": 19,
     "metadata": {},
     "output_type": "execute_result"
    }
   ],
   "source": [
    "omega[0].localize(P)"
   ]
  },
  {
   "cell_type": "code",
   "execution_count": 20,
   "metadata": {
    "collapsed": false
   },
   "outputs": [
    {
     "data": {
      "text/plain": [
       "-1/2 - 3/16*t^5 - 15/128*t^10 + O(t^12)"
      ]
     },
     "execution_count": 20,
     "metadata": {},
     "output_type": "execute_result"
    }
   ],
   "source": [
    "omega[1].localize(P)"
   ]
  },
  {
   "cell_type": "markdown",
   "metadata": {},
   "source": [
    "Another place $Q \\in X$ above $x=0$ looks like\n",
    "\n",
    "$$Q = \\left(\\frac{t^2}{2}, \\frac{t^3}{2} + \\frac{t^5}{32} + O(t^{12})\\right)$$"
   ]
  },
  {
   "cell_type": "code",
   "execution_count": 21,
   "metadata": {
    "collapsed": false
   },
   "outputs": [
    {
     "name": "stdout",
     "output_type": "stream",
     "text": [
      "(1/2*t^2, 1/2*t^3 - 1/64*t^8 + O(t^12))\n"
     ]
    }
   ],
   "source": [
    "Q = places[1]\n",
    "Q.puiseux_series.extend(12)\n",
    "print Q"
   ]
  },
  {
   "cell_type": "code",
   "execution_count": 22,
   "metadata": {
    "collapsed": false
   },
   "outputs": [
    {
     "data": {
      "text/plain": [
       "1/2 + 1/32*t^5 + O(t^9)"
      ]
     },
     "execution_count": 22,
     "metadata": {},
     "output_type": "execute_result"
    }
   ],
   "source": [
    "omega[0].localize(Q)"
   ]
  },
  {
   "cell_type": "code",
   "execution_count": 23,
   "metadata": {
    "collapsed": false
   },
   "outputs": [
    {
     "data": {
      "text/plain": [
       "1/4*t + 3/128*t^6 + O(t^10)"
      ]
     },
     "execution_count": 23,
     "metadata": {},
     "output_type": "execute_result"
    }
   ],
   "source": [
    "omega[1].localize(Q)"
   ]
  },
  {
   "cell_type": "markdown",
   "metadata": {},
   "source": [
    "Computing the valuation divisors of these differentials:"
   ]
  },
  {
   "cell_type": "code",
   "execution_count": 24,
   "metadata": {
    "collapsed": false
   },
   "outputs": [
    {
     "name": "stderr",
     "output_type": "stream",
     "text": [
      "/Users/cswiercz/sage/local/lib/python2.7/site-packages/sage/rings/number_field/number_field.py:1526: UserWarning: interpreting PARI polynomial 81 relative to the defining polynomial x^5 - 3 of the PARI number field\n",
      "  % (x, self.pari_polynomial()))\n"
     ]
    },
    {
     "name": "stdout",
     "output_type": "stream",
     "text": [
      "2(t, 1/2*t^4 + O(t^7))\n"
     ]
    }
   ],
   "source": [
    "D1 = omega[0].valuation_divisor()\n",
    "print D1"
   ]
  },
  {
   "cell_type": "code",
   "execution_count": 25,
   "metadata": {
    "collapsed": false
   },
   "outputs": [
    {
     "name": "stdout",
     "output_type": "stream",
     "text": [
      "(1/2*t^2, 1/2*t^3 + O(t^5)) + (-t^-3, t^-7 + O(t^-5))\n"
     ]
    }
   ],
   "source": [
    "D2 = omega[1].valuation_divisor()\n",
    "print D2"
   ]
  },
  {
   "cell_type": "markdown",
   "metadata": {},
   "source": [
    "**Fact:** If $\\mathcal{C}$ is canonical then $\\text{deg} \\mathcal{C} = 2g - 2$"
   ]
  },
  {
   "cell_type": "code",
   "execution_count": 26,
   "metadata": {
    "collapsed": false
   },
   "outputs": [
    {
     "data": {
      "text/plain": [
       "True"
      ]
     },
     "execution_count": 26,
     "metadata": {},
     "output_type": "execute_result"
    }
   ],
   "source": [
    "g = X.genus()\n",
    "D1.degree == 2*g-2"
   ]
  },
  {
   "cell_type": "code",
   "execution_count": 27,
   "metadata": {
    "collapsed": false
   },
   "outputs": [
    {
     "data": {
      "text/plain": [
       "True"
      ]
     },
     "execution_count": 27,
     "metadata": {},
     "output_type": "execute_result"
    }
   ],
   "source": [
    "D2.degree == 2*g-2"
   ]
  },
  {
   "cell_type": "code",
   "execution_count": null,
   "metadata": {
    "collapsed": true
   },
   "outputs": [],
   "source": []
  },
  {
   "cell_type": "markdown",
   "metadata": {},
   "source": [
    "We can plot these differentials along a path $\\gamma \\subset X$.\n",
    "\n",
    "For example, the $a$- and $b$-cycles:"
   ]
  },
  {
   "cell_type": "code",
   "execution_count": 28,
   "metadata": {
    "collapsed": false
   },
   "outputs": [],
   "source": [
    "#omega[0].plot(a[0])"
   ]
  },
  {
   "cell_type": "markdown",
   "metadata": {},
   "source": [
    "# Demo - Period Matrices\n",
    "\n",
    "Integrating each of the holomorphic differentials around each of the a- and b-cycles."
   ]
  },
  {
   "cell_type": "code",
   "execution_count": 29,
   "metadata": {
    "collapsed": false
   },
   "outputs": [
    {
     "name": "stdout",
     "output_type": "stream",
     "text": [
      "[[-1.14309835-0.37141517j -2.99267034+0.97237754j]\n",
      " [ 1.15879743-1.59494784j  0.44262123+0.60921586j]]\n",
      "\n",
      "[[ -1.14309835e+00+0.37141517j  -7.61035679e-12-1.94475508j]\n",
      " [  1.15879743e+00+1.59494784j   1.55613300e-11-1.21843173j]]\n"
     ]
    }
   ],
   "source": [
    "g = X.genus()\n",
    "tau = X.period_matrix()\n",
    "\n",
    "A = tau[:,:g]\n",
    "B = tau[:,g:]\n",
    "\n",
    "print A\n",
    "print\n",
    "print B"
   ]
  },
  {
   "cell_type": "code",
   "execution_count": 30,
   "metadata": {
    "collapsed": false
   },
   "outputs": [
    {
     "data": {
      "text/plain": [
       "(-1.1430983530319936-0.37141516962068577j)"
      ]
     },
     "execution_count": 30,
     "metadata": {},
     "output_type": "execute_result"
    }
   ],
   "source": [
    "a[0].integrate(omega[0])"
   ]
  },
  {
   "cell_type": "code",
   "execution_count": 31,
   "metadata": {
    "collapsed": false
   },
   "outputs": [
    {
     "name": "stdout",
     "output_type": "stream",
     "text": [
      "[[-0.29008936+0.70429176j  0.62973191-0.152509j  ]\n",
      " [ 0.62973191-0.152509j   -0.41982127+0.4935295j ]]\n"
     ]
    }
   ],
   "source": [
    "Omega = X.riemann_matrix()\n",
    "\n",
    "print Omega"
   ]
  },
  {
   "cell_type": "code",
   "execution_count": 32,
   "metadata": {
    "collapsed": false
   },
   "outputs": [
    {
     "name": "stdout",
     "output_type": "stream",
     "text": [
      "symmetric?     2.28914430387e-12\n",
      "pos. definite? [ 0.78428641  0.41353486]\n"
     ]
    }
   ],
   "source": [
    "from numpy.linalg import norm, eigvals\n",
    "\n",
    "print 'symmetric?    ', norm(Omega - Omega.T)\n",
    "print 'pos. definite?', eigvals(Omega.imag)"
   ]
  },
  {
   "cell_type": "code",
   "execution_count": null,
   "metadata": {
    "collapsed": true
   },
   "outputs": [],
   "source": []
  },
  {
   "cell_type": "markdown",
   "metadata": {},
   "source": [
    "# Demo - The Abel Map\n",
    "\n",
    "Given a fixed *base place* $P_0 \\in X$, the Abel Map $A : X \\to J(X)$ is defined\n",
    "\n",
    "$$A(P) = \\left( \\int_{P_0}^P \\omega_1, \\ldots, \\int_{P_0}^P \\omega_g \\right)$$\n",
    "\n",
    "If $\\mathcal{D} = \\sum_i n_iP_i$ is a *divisor* on $X$ then\n",
    "\n",
    "$$\n",
    "A(\\mathcal{D}) = \\sum_i n_i A(P_i).\n",
    "$$"
   ]
  },
  {
   "cell_type": "code",
   "execution_count": 33,
   "metadata": {
    "collapsed": false
   },
   "outputs": [],
   "source": [
    "# pick two places\n",
    "P = X(0)[0]\n",
    "Q = X(I)[0]\n",
    "\n",
    "# construct a divisor\n",
    "D = 3*P + Q"
   ]
  },
  {
   "cell_type": "code",
   "execution_count": 34,
   "metadata": {
    "collapsed": false
   },
   "outputs": [
    {
     "data": {
      "text/plain": [
       "((-2+0j), (3.9999999999999996+0j))"
      ]
     },
     "execution_count": 34,
     "metadata": {},
     "output_type": "execute_result"
    }
   ],
   "source": [
    "X.base_place"
   ]
  },
  {
   "cell_type": "code",
   "execution_count": 35,
   "metadata": {
    "collapsed": false
   },
   "outputs": [
    {
     "name": "stdout",
     "output_type": "stream",
     "text": [
      "[ 0.55945474+0.41420215j  0.68135842-0.00625734j]\n",
      "[ 0.22895821-0.00159783j  0.89563133+0.10697438j]\n",
      "[ 0.37941411+0.28849178j  0.84400481-0.03927729j]\n",
      "\n",
      "0.0\n"
     ]
    }
   ],
   "source": [
    "J = Jacobian(X)   # reduces vectors modulo lattice ZZ^g + Omega ZZ^g\n",
    "z1 = AbelMap(P)   # Abel map from P0 to P\n",
    "z2 = AbelMap(Q)   # Abel map from P0 to Q\n",
    "z3 = AbelMap(P,Q) # Abel map from P to Q\n",
    "print z1\n",
    "print z2\n",
    "print z3\n",
    "\n",
    "# numerically verify that A(P,Q) = A(P0,Q) - A(P0,P)\n",
    "import numpy\n",
    "print\n",
    "print numpy.linalg.norm( J((z2-z1) - z3) )"
   ]
  },
  {
   "cell_type": "code",
   "execution_count": 36,
   "metadata": {
    "collapsed": false
   },
   "outputs": [
    {
     "data": {
      "text/plain": [
       "array([ 1.19741178+0.53671686j,  0.30997469+0.24071137j])"
      ]
     },
     "execution_count": 36,
     "metadata": {},
     "output_type": "execute_result"
    }
   ],
   "source": [
    "AbelMap(D)"
   ]
  },
  {
   "cell_type": "code",
   "execution_count": 37,
   "metadata": {
    "collapsed": false
   },
   "outputs": [
    {
     "data": {
      "text/plain": [
       "(I, -1.208779665875355? + 1.026155518025695?*I)"
      ]
     },
     "execution_count": 37,
     "metadata": {},
     "output_type": "execute_result"
    }
   ],
   "source": [
    "Q"
   ]
  },
  {
   "cell_type": "code",
   "execution_count": 38,
   "metadata": {
    "collapsed": false
   },
   "outputs": [
    {
     "data": {
      "image/png": "[encoded data removed]",
      "text/plain": [
       "Graphics object consisting of 11 graphics primitives"
      ]
     },
     "execution_count": 38,
     "metadata": {},
     "output_type": "execute_result"
    }
   ],
   "source": [
    "gamma = X.path(Q)\n",
    "gamma.plot_x()"
   ]
  },
  {
   "cell_type": "code",
   "execution_count": 39,
   "metadata": {
    "collapsed": false
   },
   "outputs": [
    {
     "data": {
      "image/png": "[encoded data removed]",
      "text/plain": [
       "Graphics object consisting of 1 graphics primitive"
      ]
     },
     "execution_count": 39,
     "metadata": {},
     "output_type": "execute_result"
    }
   ],
   "source": [
    "gamma.plot_y(1000, color='green')"
   ]
  },
  {
   "cell_type": "code",
   "execution_count": null,
   "metadata": {
    "collapsed": true
   },
   "outputs": [],
   "source": []
  },
  {
   "cell_type": "markdown",
   "metadata": {},
   "source": [
    "## Riemann Constant Vector\n",
    "\n",
    "The Riemann constant vector satisfies the following two theorems:\n",
    "\n",
    "**Theorem 1:** $\\mathcal{C}$ is a canonical divisor if any only if $K(P_0) \\equiv -A(P_0,\\mathcal{C})$.\n",
    "\n",
    "**Theorem 2:** $\\theta(W,\\Omega) = 0$ if and only if $W = A(P_0,\\mathcal{D}) + K(P_0)$ where $\\mathcal{D}$ is an effective degree $g-1$ divisor.\n",
    "\n",
    "We compute $K$ below and verify that these two theorems are satisfied."
   ]
  },
  {
   "cell_type": "code",
   "execution_count": 40,
   "metadata": {
    "collapsed": false
   },
   "outputs": [
    {
     "name": "stdout",
     "output_type": "stream",
     "text": [
      "[ 0.46532185+0.21383511j  0.23846285+0.10051308j]\n"
     ]
    }
   ],
   "source": [
    "K = RiemannConstantVector # alias the RCV function for brevity\n",
    "P0 = X.base_place\n",
    "print K(P0)"
   ]
  },
  {
   "cell_type": "code",
   "execution_count": 41,
   "metadata": {
    "collapsed": true
   },
   "outputs": [],
   "source": [
    "C = omega[0].valuation_divisor()"
   ]
  },
  {
   "cell_type": "code",
   "execution_count": 42,
   "metadata": {
    "collapsed": false
   },
   "outputs": [
    {
     "name": "stdout",
     "output_type": "stream",
     "text": [
      "[ 0.+0.j  0.+0.j]\n"
     ]
    }
   ],
   "source": [
    "J = Jacobian(X)\n",
    "z = J(2*K(P0) + AbelMap(C))\n",
    "print z"
   ]
  },
  {
   "cell_type": "code",
   "execution_count": 43,
   "metadata": {
    "collapsed": false
   },
   "outputs": [
    {
     "name": "stdout",
     "output_type": "stream",
     "text": [
      "1.84851951579e-09\n"
     ]
    }
   ],
   "source": [
    "W = K(P0)\n",
    "v = RiemannTheta.oscillatory_part(W,Omega)\n",
    "print abs(v)"
   ]
  },
  {
   "cell_type": "code",
   "execution_count": 44,
   "metadata": {
    "collapsed": false
   },
   "outputs": [
    {
     "name": "stdout",
     "output_type": "stream",
     "text": [
      "1.53475525628e-08\n"
     ]
    }
   ],
   "source": [
    "D = X(2)[0]\n",
    "W = J(AbelMap(D) + K(P0))\n",
    "v = RiemannTheta.oscillatory_part(W, Omega)\n",
    "print abs(v)"
   ]
  },
  {
   "cell_type": "code",
   "execution_count": null,
   "metadata": {
    "collapsed": false
   },
   "outputs": [],
   "source": []
  },
  {
   "cell_type": "code",
   "execution_count": null,
   "metadata": {
    "collapsed": false
   },
   "outputs": [],
   "source": []
  },
  {
   "cell_type": "code",
   "execution_count": null,
   "metadata": {
    "collapsed": true
   },
   "outputs": [],
   "source": []
  }
 ],
 "metadata": {
  "kernelspec": {
   "display_name": "SageMath 6.10",
   "language": "",
   "name": "sagemath"
  },
  "language_info": {
   "codemirror_mode": {
    "name": "ipython",
    "version": 2
   },
   "file_extension": ".py",
   "mimetype": "text/x-python",
   "name": "python",
   "nbconvert_exporter": "python",
   "pygments_lexer": "ipython2",
   "version": "2.7.10"
  }
 },
 "nbformat": 4,
 "nbformat_minor": 0
}
